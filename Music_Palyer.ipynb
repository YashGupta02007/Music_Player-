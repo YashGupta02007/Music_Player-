{
 "cells": [
  {
   "cell_type": "code",
   "execution_count": 1,
   "id": "942b9efe-ec36-40f9-8fa7-90881e97b3a2",
   "metadata": {},
   "outputs": [
    {
     "name": "stdout",
     "output_type": "stream",
     "text": [
      "Requirement already satisfied: pygame in c:\\users\\yash2\\appdata\\local\\programs\\python\\python312\\lib\\site-packages (2.5.2)\n",
      "Note: you may need to restart the kernel to use updated packages.\n"
     ]
    }
   ],
   "source": [
    "pip install pygame"
   ]
  },
  {
   "cell_type": "code",
   "execution_count": 10,
   "id": "d3b746a1-ad12-404f-a60f-026a40e17f0c",
   "metadata": {},
   "outputs": [],
   "source": [
    "from pygame import mixer\n",
    "\n",
    "mixer.init() \n",
    "\n",
    "mixer.music.load('hello.mp3') \n",
    "\n",
    "mixer.music.play() \n",
    "mixer.music.stop()"
   ]
  },
  {
   "cell_type": "code",
   "execution_count": 8,
   "id": "99af1d46-10e1-4ddf-a754-0e6799f76b57",
   "metadata": {},
   "outputs": [],
   "source": [
    "from tkinter import *\n",
    "from tkinter import filedialog\n",
    "from pygame import mixer\n",
    "\n",
    "class Player:\n",
    "    def __init__(self, window ):\n",
    "        window.geometry('320x100'); window.title('Python Tiny Player'); window.resizable(0,0)\n",
    "        Load = Button(window, text = 'Load',  width = 10, font = ('Times', 10), command = self.load)\n",
    "        Play = Button(window, text = 'Play',  width = 10,font = ('Times', 10), command = self.play)\n",
    "        Pause = Button(window,text = 'Pause',  width = 10, font = ('Times', 10), command = self.pause)\n",
    "        Stop = Button(window ,text = 'Stop',  width = 10, font = ('Times', 10), command = self.stop)\n",
    "        Load.place(x=0, y=20); Play.place(x=110, y=20); Pause.place(x=220, y=20); Stop.place(x=110, y=60) \n",
    "        self.music_file = False\n",
    "        self.playing_state = False\n",
    "    def load(self):\n",
    "        self.music_file = filedialog.askopenfilename()\n",
    "    def play(self):\n",
    "        if self.music_file:\n",
    "            mixer.init()\n",
    "            mixer.music.load(self.music_file)\n",
    "            mixer.music.play()\n",
    "    def pause(self):\n",
    "        if not self.playing_state:\n",
    "            mixer.music.pause()\n",
    "            self.playing_state=True\n",
    "        else:\n",
    "            mixer.music.unpause()\n",
    "            self.playing_state = False\n",
    "    def stop(self):\n",
    "        mixer.music.stop()\n",
    "        \n",
    "new_root = Tk()\n",
    "player_app = Player(new_root)\n",
    "new_root.mainloop()"
   ]
  },
  {
   "cell_type": "code",
   "execution_count": null,
   "id": "d2a048a6-fda3-4289-aed4-b0059098847e",
   "metadata": {},
   "outputs": [],
   "source": []
  }
 ],
 "metadata": {
  "kernelspec": {
   "display_name": "Python 3 (ipykernel)",
   "language": "python",
   "name": "python3"
  },
  "language_info": {
   "codemirror_mode": {
    "name": "ipython",
    "version": 3
   },
   "file_extension": ".py",
   "mimetype": "text/x-python",
   "name": "python",
   "nbconvert_exporter": "python",
   "pygments_lexer": "ipython3",
   "version": "3.12.3"
  }
 },
 "nbformat": 4,
 "nbformat_minor": 5
}
